{
  "nbformat": 4,
  "nbformat_minor": 0,
  "metadata": {
    "colab": {
      "name": "RNN_Image_Classifier_MNIST_data.ipynb",
      "provenance": [],
      "collapsed_sections": []
    },
    "kernelspec": {
      "name": "python3",
      "display_name": "Python 3"
    },
    "accelerator": "GPU"
  },
  "cells": [
    {
      "cell_type": "markdown",
      "metadata": {
        "id": "djPuToCdUGxy",
        "colab_type": "text"
      },
      "source": [
        "Python code to train an image classification on MNIST data using Keras\n",
        "library with LSTM architecture"
      ]
    },
    {
      "cell_type": "code",
      "metadata": {
        "id": "R1x8GEo3FPXe",
        "colab_type": "code",
        "colab": {
          "base_uri": "https://localhost:8080/",
          "height": 255
        },
        "outputId": "95e1a7d8-ae42-4600-d9f1-237899ac8a6b"
      },
      "source": [
        "# import necessary packages\n",
        "import sys\n",
        "from tensorflow.examples.tutorials.mnist import input_data\n",
        "from keras.models import Sequential\n",
        "from keras.layers import LSTM, Dense\n",
        "from keras.models import load_model\n",
        "import numpy as np\n",
        "\n",
        "#Build the network using LSTM layers\n",
        "class MnistLSTMClassifier(object):\n",
        "    def __init__(self):\n",
        "        # Classifier\n",
        "        self.time_steps=28 # timesteps to unroll\n",
        "        self.n_units=128 # hidden LSTM units\n",
        "        self.n_inputs=28 # rows of 28 pixels (an mnist img is 28x28)\n",
        "        self.n_classes=10 # mnist classes/labels (0-9)\n",
        "        self.batch_size=128 # Size of each batch\n",
        "        self.n_epochs=5\n",
        "        # Internal\n",
        "        self._data_loaded = False\n",
        "        self._trained = False\n",
        "\n",
        "    def __create_model(self):\n",
        "        self.model = Sequential()\n",
        "        self.model.add(LSTM(self.n_units, input_shape=(self.time_steps, self.n_inputs)))\n",
        "        self.model.add(Dense(self.n_classes, activation='softmax'))\n",
        "#compile the layers and model\n",
        "        self.model.compile(loss='categorical_crossentropy',\n",
        "                      optimizer='rmsprop',\n",
        "                      metrics=['accuracy'])\n",
        "#load the data to the model\n",
        "    def __load_data(self):\n",
        "        self.mnist = input_data.read_data_sets(\"mnist\", one_hot=True)\n",
        "        self._data_loaded = True\n",
        "#initialise the training parameters \n",
        "    def train(self, save_model=False):\n",
        "        self.__create_model()\n",
        "        if self._data_loaded == False:\n",
        "            self.__load_data()\n",
        "\n",
        "        x_train = [x.reshape((-1, self.time_steps, self.n_inputs)) for x in self.mnist.train.images]    #load the train data\n",
        "        x_train = np.array(x_train).reshape((-1, self.time_steps, self.n_inputs))       #reshape the train data\n",
        "#initialise the hyperparameters for training\n",
        "        self.model.fit(x_train, self.mnist.train.labels,\n",
        "                  batch_size=self.batch_size, epochs=self.n_epochs, shuffle=False)\n",
        "\n",
        "        self._trained = True\n",
        "        \n",
        "        if save_model:\n",
        "            self.model.save(\"/content/saved_model/lstm-model.h5\")     #save the model\n",
        "#define the validation/testing function\n",
        "    def evaluate(self, model=None):\n",
        "        if self._trained == False and model == None:\n",
        "            errmsg = \"[!] Error: classifier wasn't trained or classifier path is not precised.\"\n",
        "            print(errmsg, file=sys.stderr)\n",
        "            sys.exit(0)\n",
        "\n",
        "        if self._data_loaded == False:\n",
        "            self.__load_data()\n",
        "\n",
        "        x_test = [x.reshape((-1, self.time_steps, self.n_inputs)) for x in self.mnist.test.images]\n",
        "        x_test = np.array(x_test).reshape((-1, self.time_steps, self.n_inputs))\n",
        "#check the test/validation loss during the training\n",
        "        model = load_model(model) if model else self.model\n",
        "        test_loss = model.evaluate(x_test, self.mnist.test.labels)\n",
        "        print(test_loss)\n",
        "\n",
        "#main function\n",
        "if __name__ == \"__main__\":\n",
        "    lstm_classifier = MnistLSTMClassifier()\n",
        "    lstm_classifier.train(save_model=True)"
      ],
      "execution_count": 8,
      "outputs": [
        {
          "output_type": "stream",
          "text": [
            "Extracting mnist/train-images-idx3-ubyte.gz\n",
            "Extracting mnist/train-labels-idx1-ubyte.gz\n",
            "Extracting mnist/t10k-images-idx3-ubyte.gz\n",
            "Extracting mnist/t10k-labels-idx1-ubyte.gz\n",
            "Epoch 1/5\n",
            "55000/55000 [==============================] - 18s 320us/step - loss: 0.6421 - acc: 0.7873\n",
            "Epoch 2/5\n",
            "55000/55000 [==============================] - 17s 301us/step - loss: 0.1949 - acc: 0.9406\n",
            "Epoch 3/5\n",
            "55000/55000 [==============================] - 17s 305us/step - loss: 0.1199 - acc: 0.9638\n",
            "Epoch 4/5\n",
            "55000/55000 [==============================] - 17s 310us/step - loss: 0.0858 - acc: 0.9736\n",
            "Epoch 5/5\n",
            "55000/55000 [==============================] - 17s 311us/step - loss: 0.0666 - acc: 0.9801\n"
          ],
          "name": "stdout"
        }
      ]
    },
    {
      "cell_type": "markdown",
      "metadata": {
        "id": "NCiJ5KPnUkti",
        "colab_type": "text"
      },
      "source": [
        "Now evaluate the trained model with the test dataset in the MNIST dataset\n"
      ]
    },
    {
      "cell_type": "code",
      "metadata": {
        "id": "B0r70musGZuC",
        "colab_type": "code",
        "colab": {
          "base_uri": "https://localhost:8080/",
          "height": 51
        },
        "outputId": "1a0f2744-17e6-4d70-f22c-ceceb35e33b1"
      },
      "source": [
        "lstm_classifier.evaluate(model=\"/content/saved_model/lstm-model.h5\")"
      ],
      "execution_count": 9,
      "outputs": [
        {
          "output_type": "stream",
          "text": [
            "10000/10000 [==============================] - 5s 517us/step\n",
            "[0.07600377612132579, 0.9766]\n"
          ],
          "name": "stdout"
        }
      ]
    }
  ]
}